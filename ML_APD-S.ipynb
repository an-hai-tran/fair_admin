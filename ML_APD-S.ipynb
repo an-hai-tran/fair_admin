{
 "cells": [
  {
   "cell_type": "markdown",
   "id": "c77bf07f",
   "metadata": {},
   "source": [
    "# Import required libraries"
   ]
  },
  {
   "cell_type": "code",
   "execution_count": 1,
   "id": "030c858d",
   "metadata": {},
   "outputs": [],
   "source": [
    "# import basic libraries\n",
    "import pandas as pd\n",
    "import seaborn as sns\n",
    "import matplotlib.pyplot as plt\n",
    "import numpy as np\n",
    "\n",
    "# import libraries to train and evaluate models\n",
    "from sklearn.model_selection import train_test_split\n",
    "from sklearn.model_selection import GridSearchCV\n",
    "from skmultilearn.problem_transform import ClassifierChain\n",
    "from sklearn.metrics import roc_auc_score\n",
    "from sklearn.metrics import accuracy_score\n",
    "from sklearn.metrics import fbeta_score\n",
    "\n",
    "# import libraries for different algorithms\n",
    "from sklearn.linear_model import LogisticRegression\n",
    "from sklearn.naive_bayes import GaussianNB\n",
    "from sklearn.tree import DecisionTreeClassifier\n",
    "from sklearn.svm import SVC\n",
    "from sklearn.neighbors import KNeighborsClassifier\n",
    "from sklearn.ensemble import RandomForestClassifier\n",
    "\n",
    "# import libraries to solve LP\n",
    "from pulp import *"
   ]
  },
  {
   "cell_type": "markdown",
   "id": "df0969f4",
   "metadata": {},
   "source": [
    "# Data preprocessing"
   ]
  },
  {
   "cell_type": "markdown",
   "id": "bb14ad49",
   "metadata": {},
   "source": [
    "Based on the description of the dataset: http://www.seaphe.org/databases/FOIA/lawschs_changelog_1_1.pdf and data preprocessing methods applied in https://www.mdpi.com/2306-5729/4/2/65/htm"
   ]
  },
  {
   "cell_type": "code",
   "execution_count": 2,
   "id": "c3e7d055",
   "metadata": {
    "scrolled": false
   },
   "outputs": [],
   "source": [
    "# read data\n",
    "df = pd.read_sas('law_school.sas7bdat')\n",
    "\n",
    "# make all column names lowercase\n",
    "df.columns = df.columns.str.lower()\n",
    " \n",
    "# convert columns with `byte` data type\n",
    "str_df = df.select_dtypes(['object'])\n",
    "str_df = str_df.stack().str.decode('utf-8').unstack()\n",
    "for col in str_df:\n",
    "    df[col] = str_df[col]    \n",
    "    \n",
    "# fill missing records in `lsat` and `gpa` with their medians\n",
    "df.fillna({'gpa': df['gpa'].median(), 'lsat': df['lsat'].median()}, inplace = True)\n",
    "\n",
    "# applicants with `admit` = 0 will also have `enroll` = 0\n",
    "df.loc[(df['admit'] == 0) & (df['enroll'].isna()), 'enroll'] = 0\n",
    "\n",
    "# remove missing records in `race`, `resident`, `college`, `gender`, `admit`, `enroll`\n",
    "df = df[df[['race', 'resident', 'college', 'gender', 'admit', 'enroll']].notna().all(1)]\n",
    "\n",
    "# remove outliers for LSAT and GPA\n",
    "df = df[(df['lsat'] <= 180) & (df['lsat'] >= 120) & (df['gpa'] <= 4)]"
   ]
  },
  {
   "cell_type": "markdown",
   "id": "3d7b3400",
   "metadata": {},
   "source": [
    "# Add acceptance rate and admission rate for universities"
   ]
  },
  {
   "cell_type": "code",
   "execution_count": 3,
   "id": "2a4c74df",
   "metadata": {},
   "outputs": [],
   "source": [
    "for college in df['college'].unique():\n",
    "    df.loc[df['college'] == college, 'college_acceptance_rate'] =\\\n",
    "    len(df[(df['college'] == college) & df['admit'] == 1])/len(df[(df['college'] == college)])\n",
    "    \n",
    "    df.loc[df['college'] == college, 'college_admission_rate'] =\\\n",
    "    len(df[(df['college'] == college) & df['enroll'] == 1])/len(df[(df['college'] == college)])"
   ]
  },
  {
   "cell_type": "code",
   "execution_count": 4,
   "id": "ea8ad38f",
   "metadata": {},
   "outputs": [
    {
     "data": {
      "text/plain": [
       "count    97456.000000\n",
       "mean         0.260487\n",
       "std          0.079987\n",
       "min          0.141110\n",
       "25%          0.208211\n",
       "50%          0.248376\n",
       "75%          0.289366\n",
       "max          0.481532\n",
       "Name: college_acceptance_rate, dtype: float64"
      ]
     },
     "execution_count": 4,
     "metadata": {},
     "output_type": "execute_result"
    }
   ],
   "source": [
    "# summary of college acceptance rate\n",
    "df['college_acceptance_rate'].describe()"
   ]
  },
  {
   "cell_type": "markdown",
   "id": "caeb77c0",
   "metadata": {},
   "source": [
    "The acceptance rate of all colleges ranges from 14% to over 40%\n",
    "Since the 75th percentile has an acceptance rate of less than 30%, to avoid imbalance in the statistics, we drop college with acceptance rate more than 30%."
   ]
  },
  {
   "cell_type": "code",
   "execution_count": 5,
   "id": "06e255dc",
   "metadata": {},
   "outputs": [],
   "source": [
    "df = df[df['college_acceptance_rate'] < 0.3]"
   ]
  },
  {
   "cell_type": "code",
   "execution_count": 6,
   "id": "9096a5f2",
   "metadata": {
    "scrolled": true
   },
   "outputs": [
    {
     "data": {
      "text/plain": [
       "count    74698.000000\n",
       "mean         0.057244\n",
       "std          0.019286\n",
       "min          0.018715\n",
       "25%          0.044874\n",
       "50%          0.052267\n",
       "75%          0.066947\n",
       "max          0.091594\n",
       "Name: college_admission_rate, dtype: float64"
      ]
     },
     "execution_count": 6,
     "metadata": {},
     "output_type": "execute_result"
    }
   ],
   "source": [
    "# summary of college admission rate\n",
    "df['college_admission_rate'].describe()"
   ]
  },
  {
   "cell_type": "markdown",
   "id": "44e331a7",
   "metadata": {},
   "source": [
    "The admission rate of colleges in the 75th percentile of acceptance rate also ranges from 2-10%, which is acceptable."
   ]
  },
  {
   "cell_type": "code",
   "execution_count": 7,
   "id": "1fc9523a",
   "metadata": {},
   "outputs": [],
   "source": [
    "# rearrange order of columns\n",
    "df.insert(len(df.columns)-1, 'admit', df.pop('admit'))\n",
    "df.insert(len(df.columns)-1, 'enroll', df.pop('enroll'))\n",
    "\n",
    "# drop uneccessary columns\n",
    "df.drop(['race', 'missingrace', 'college', 'urm', 'year'], axis = 1, inplace = True)"
   ]
  },
  {
   "cell_type": "markdown",
   "id": "a9f43f5e",
   "metadata": {},
   "source": [
    "# Data summary"
   ]
  },
  {
   "cell_type": "code",
   "execution_count": 8,
   "id": "b01fc4c4",
   "metadata": {},
   "outputs": [
    {
     "data": {
      "text/html": [
       "<div>\n",
       "<style scoped>\n",
       "    .dataframe tbody tr th:only-of-type {\n",
       "        vertical-align: middle;\n",
       "    }\n",
       "\n",
       "    .dataframe tbody tr th {\n",
       "        vertical-align: top;\n",
       "    }\n",
       "\n",
       "    .dataframe thead th {\n",
       "        text-align: right;\n",
       "    }\n",
       "</style>\n",
       "<table border=\"1\" class=\"dataframe\">\n",
       "  <thead>\n",
       "    <tr style=\"text-align: right;\">\n",
       "      <th></th>\n",
       "      <th>lsat</th>\n",
       "      <th>gpa</th>\n",
       "      <th>resident</th>\n",
       "      <th>gender</th>\n",
       "      <th>black</th>\n",
       "      <th>hispanic</th>\n",
       "      <th>asian</th>\n",
       "      <th>white</th>\n",
       "      <th>college_acceptance_rate</th>\n",
       "      <th>college_admission_rate</th>\n",
       "      <th>admit</th>\n",
       "      <th>enroll</th>\n",
       "    </tr>\n",
       "  </thead>\n",
       "  <tbody>\n",
       "    <tr>\n",
       "      <th>0</th>\n",
       "      <td>156.0</td>\n",
       "      <td>3.71</td>\n",
       "      <td>0.0</td>\n",
       "      <td>0.0</td>\n",
       "      <td>0.0</td>\n",
       "      <td>0.0</td>\n",
       "      <td>0.0</td>\n",
       "      <td>1.0</td>\n",
       "      <td>0.205862</td>\n",
       "      <td>0.018715</td>\n",
       "      <td>1.0</td>\n",
       "      <td>0.0</td>\n",
       "    </tr>\n",
       "    <tr>\n",
       "      <th>1</th>\n",
       "      <td>161.0</td>\n",
       "      <td>3.85</td>\n",
       "      <td>0.0</td>\n",
       "      <td>0.0</td>\n",
       "      <td>0.0</td>\n",
       "      <td>0.0</td>\n",
       "      <td>0.0</td>\n",
       "      <td>1.0</td>\n",
       "      <td>0.205862</td>\n",
       "      <td>0.018715</td>\n",
       "      <td>1.0</td>\n",
       "      <td>0.0</td>\n",
       "    </tr>\n",
       "    <tr>\n",
       "      <th>2</th>\n",
       "      <td>160.0</td>\n",
       "      <td>3.20</td>\n",
       "      <td>0.0</td>\n",
       "      <td>1.0</td>\n",
       "      <td>0.0</td>\n",
       "      <td>0.0</td>\n",
       "      <td>0.0</td>\n",
       "      <td>1.0</td>\n",
       "      <td>0.205862</td>\n",
       "      <td>0.018715</td>\n",
       "      <td>0.0</td>\n",
       "      <td>0.0</td>\n",
       "    </tr>\n",
       "    <tr>\n",
       "      <th>4</th>\n",
       "      <td>159.0</td>\n",
       "      <td>3.49</td>\n",
       "      <td>0.0</td>\n",
       "      <td>1.0</td>\n",
       "      <td>0.0</td>\n",
       "      <td>0.0</td>\n",
       "      <td>0.0</td>\n",
       "      <td>1.0</td>\n",
       "      <td>0.205862</td>\n",
       "      <td>0.018715</td>\n",
       "      <td>0.0</td>\n",
       "      <td>0.0</td>\n",
       "    </tr>\n",
       "    <tr>\n",
       "      <th>5</th>\n",
       "      <td>154.0</td>\n",
       "      <td>2.81</td>\n",
       "      <td>0.0</td>\n",
       "      <td>1.0</td>\n",
       "      <td>0.0</td>\n",
       "      <td>0.0</td>\n",
       "      <td>0.0</td>\n",
       "      <td>1.0</td>\n",
       "      <td>0.205862</td>\n",
       "      <td>0.018715</td>\n",
       "      <td>0.0</td>\n",
       "      <td>0.0</td>\n",
       "    </tr>\n",
       "    <tr>\n",
       "      <th>...</th>\n",
       "      <td>...</td>\n",
       "      <td>...</td>\n",
       "      <td>...</td>\n",
       "      <td>...</td>\n",
       "      <td>...</td>\n",
       "      <td>...</td>\n",
       "      <td>...</td>\n",
       "      <td>...</td>\n",
       "      <td>...</td>\n",
       "      <td>...</td>\n",
       "      <td>...</td>\n",
       "      <td>...</td>\n",
       "    </tr>\n",
       "    <tr>\n",
       "      <th>124552</th>\n",
       "      <td>179.0</td>\n",
       "      <td>3.72</td>\n",
       "      <td>1.0</td>\n",
       "      <td>0.0</td>\n",
       "      <td>0.0</td>\n",
       "      <td>0.0</td>\n",
       "      <td>0.0</td>\n",
       "      <td>1.0</td>\n",
       "      <td>0.208211</td>\n",
       "      <td>0.066947</td>\n",
       "      <td>1.0</td>\n",
       "      <td>0.0</td>\n",
       "    </tr>\n",
       "    <tr>\n",
       "      <th>124553</th>\n",
       "      <td>179.0</td>\n",
       "      <td>3.96</td>\n",
       "      <td>1.0</td>\n",
       "      <td>0.0</td>\n",
       "      <td>0.0</td>\n",
       "      <td>0.0</td>\n",
       "      <td>1.0</td>\n",
       "      <td>0.0</td>\n",
       "      <td>0.208211</td>\n",
       "      <td>0.066947</td>\n",
       "      <td>1.0</td>\n",
       "      <td>0.0</td>\n",
       "    </tr>\n",
       "    <tr>\n",
       "      <th>124554</th>\n",
       "      <td>179.0</td>\n",
       "      <td>3.97</td>\n",
       "      <td>0.0</td>\n",
       "      <td>0.0</td>\n",
       "      <td>0.0</td>\n",
       "      <td>0.0</td>\n",
       "      <td>0.0</td>\n",
       "      <td>1.0</td>\n",
       "      <td>0.208211</td>\n",
       "      <td>0.066947</td>\n",
       "      <td>1.0</td>\n",
       "      <td>0.0</td>\n",
       "    </tr>\n",
       "    <tr>\n",
       "      <th>124555</th>\n",
       "      <td>180.0</td>\n",
       "      <td>3.29</td>\n",
       "      <td>0.0</td>\n",
       "      <td>1.0</td>\n",
       "      <td>0.0</td>\n",
       "      <td>0.0</td>\n",
       "      <td>0.0</td>\n",
       "      <td>1.0</td>\n",
       "      <td>0.208211</td>\n",
       "      <td>0.066947</td>\n",
       "      <td>1.0</td>\n",
       "      <td>1.0</td>\n",
       "    </tr>\n",
       "    <tr>\n",
       "      <th>124556</th>\n",
       "      <td>180.0</td>\n",
       "      <td>3.53</td>\n",
       "      <td>1.0</td>\n",
       "      <td>1.0</td>\n",
       "      <td>0.0</td>\n",
       "      <td>0.0</td>\n",
       "      <td>0.0</td>\n",
       "      <td>1.0</td>\n",
       "      <td>0.208211</td>\n",
       "      <td>0.066947</td>\n",
       "      <td>1.0</td>\n",
       "      <td>0.0</td>\n",
       "    </tr>\n",
       "  </tbody>\n",
       "</table>\n",
       "<p>74698 rows × 12 columns</p>\n",
       "</div>"
      ],
      "text/plain": [
       "         lsat   gpa  resident  gender  black  hispanic  asian  white  \\\n",
       "0       156.0  3.71       0.0     0.0    0.0       0.0    0.0    1.0   \n",
       "1       161.0  3.85       0.0     0.0    0.0       0.0    0.0    1.0   \n",
       "2       160.0  3.20       0.0     1.0    0.0       0.0    0.0    1.0   \n",
       "4       159.0  3.49       0.0     1.0    0.0       0.0    0.0    1.0   \n",
       "5       154.0  2.81       0.0     1.0    0.0       0.0    0.0    1.0   \n",
       "...       ...   ...       ...     ...    ...       ...    ...    ...   \n",
       "124552  179.0  3.72       1.0     0.0    0.0       0.0    0.0    1.0   \n",
       "124553  179.0  3.96       1.0     0.0    0.0       0.0    1.0    0.0   \n",
       "124554  179.0  3.97       0.0     0.0    0.0       0.0    0.0    1.0   \n",
       "124555  180.0  3.29       0.0     1.0    0.0       0.0    0.0    1.0   \n",
       "124556  180.0  3.53       1.0     1.0    0.0       0.0    0.0    1.0   \n",
       "\n",
       "        college_acceptance_rate  college_admission_rate  admit  enroll  \n",
       "0                      0.205862                0.018715    1.0     0.0  \n",
       "1                      0.205862                0.018715    1.0     0.0  \n",
       "2                      0.205862                0.018715    0.0     0.0  \n",
       "4                      0.205862                0.018715    0.0     0.0  \n",
       "5                      0.205862                0.018715    0.0     0.0  \n",
       "...                         ...                     ...    ...     ...  \n",
       "124552                 0.208211                0.066947    1.0     0.0  \n",
       "124553                 0.208211                0.066947    1.0     0.0  \n",
       "124554                 0.208211                0.066947    1.0     0.0  \n",
       "124555                 0.208211                0.066947    1.0     1.0  \n",
       "124556                 0.208211                0.066947    1.0     0.0  \n",
       "\n",
       "[74698 rows x 12 columns]"
      ]
     },
     "execution_count": 8,
     "metadata": {},
     "output_type": "execute_result"
    }
   ],
   "source": [
    "df"
   ]
  },
  {
   "cell_type": "code",
   "execution_count": 9,
   "id": "221d3f51",
   "metadata": {
    "scrolled": true
   },
   "outputs": [
    {
     "data": {
      "text/html": [
       "<div>\n",
       "<style scoped>\n",
       "    .dataframe tbody tr th:only-of-type {\n",
       "        vertical-align: middle;\n",
       "    }\n",
       "\n",
       "    .dataframe tbody tr th {\n",
       "        vertical-align: top;\n",
       "    }\n",
       "\n",
       "    .dataframe thead th {\n",
       "        text-align: right;\n",
       "    }\n",
       "</style>\n",
       "<table border=\"1\" class=\"dataframe\">\n",
       "  <thead>\n",
       "    <tr style=\"text-align: right;\">\n",
       "      <th></th>\n",
       "      <th>lsat</th>\n",
       "      <th>gpa</th>\n",
       "      <th>resident</th>\n",
       "      <th>gender</th>\n",
       "      <th>black</th>\n",
       "      <th>hispanic</th>\n",
       "      <th>asian</th>\n",
       "      <th>white</th>\n",
       "      <th>college_acceptance_rate</th>\n",
       "      <th>college_admission_rate</th>\n",
       "      <th>admit</th>\n",
       "      <th>enroll</th>\n",
       "    </tr>\n",
       "  </thead>\n",
       "  <tbody>\n",
       "    <tr>\n",
       "      <th>count</th>\n",
       "      <td>74698.000000</td>\n",
       "      <td>74698.000000</td>\n",
       "      <td>74698.000000</td>\n",
       "      <td>74698.000000</td>\n",
       "      <td>74698.000000</td>\n",
       "      <td>74698.000000</td>\n",
       "      <td>74698.000000</td>\n",
       "      <td>74698.000000</td>\n",
       "      <td>74698.000000</td>\n",
       "      <td>74698.000000</td>\n",
       "      <td>74698.000000</td>\n",
       "      <td>74698.000000</td>\n",
       "    </tr>\n",
       "    <tr>\n",
       "      <th>mean</th>\n",
       "      <td>157.771453</td>\n",
       "      <td>3.379158</td>\n",
       "      <td>0.251011</td>\n",
       "      <td>0.558315</td>\n",
       "      <td>0.080805</td>\n",
       "      <td>0.080417</td>\n",
       "      <td>0.129414</td>\n",
       "      <td>0.709363</td>\n",
       "      <td>0.223272</td>\n",
       "      <td>0.057244</td>\n",
       "      <td>0.223272</td>\n",
       "      <td>0.057244</td>\n",
       "    </tr>\n",
       "    <tr>\n",
       "      <th>std</th>\n",
       "      <td>8.346967</td>\n",
       "      <td>0.401746</td>\n",
       "      <td>0.433598</td>\n",
       "      <td>0.496591</td>\n",
       "      <td>0.272538</td>\n",
       "      <td>0.271940</td>\n",
       "      <td>0.335660</td>\n",
       "      <td>0.454059</td>\n",
       "      <td>0.041457</td>\n",
       "      <td>0.019286</td>\n",
       "      <td>0.416442</td>\n",
       "      <td>0.232309</td>\n",
       "    </tr>\n",
       "    <tr>\n",
       "      <th>min</th>\n",
       "      <td>120.000000</td>\n",
       "      <td>1.349999</td>\n",
       "      <td>0.000000</td>\n",
       "      <td>0.000000</td>\n",
       "      <td>0.000000</td>\n",
       "      <td>0.000000</td>\n",
       "      <td>0.000000</td>\n",
       "      <td>0.000000</td>\n",
       "      <td>0.141110</td>\n",
       "      <td>0.018715</td>\n",
       "      <td>0.000000</td>\n",
       "      <td>0.000000</td>\n",
       "    </tr>\n",
       "    <tr>\n",
       "      <th>25%</th>\n",
       "      <td>153.000000</td>\n",
       "      <td>3.140000</td>\n",
       "      <td>0.000000</td>\n",
       "      <td>0.000000</td>\n",
       "      <td>0.000000</td>\n",
       "      <td>0.000000</td>\n",
       "      <td>0.000000</td>\n",
       "      <td>0.000000</td>\n",
       "      <td>0.198752</td>\n",
       "      <td>0.044874</td>\n",
       "      <td>0.000000</td>\n",
       "      <td>0.000000</td>\n",
       "    </tr>\n",
       "    <tr>\n",
       "      <th>50%</th>\n",
       "      <td>158.000000</td>\n",
       "      <td>3.440000</td>\n",
       "      <td>0.000000</td>\n",
       "      <td>1.000000</td>\n",
       "      <td>0.000000</td>\n",
       "      <td>0.000000</td>\n",
       "      <td>0.000000</td>\n",
       "      <td>1.000000</td>\n",
       "      <td>0.216494</td>\n",
       "      <td>0.052267</td>\n",
       "      <td>0.000000</td>\n",
       "      <td>0.000000</td>\n",
       "    </tr>\n",
       "    <tr>\n",
       "      <th>75%</th>\n",
       "      <td>164.000000</td>\n",
       "      <td>3.690000</td>\n",
       "      <td>1.000000</td>\n",
       "      <td>1.000000</td>\n",
       "      <td>0.000000</td>\n",
       "      <td>0.000000</td>\n",
       "      <td>0.000000</td>\n",
       "      <td>1.000000</td>\n",
       "      <td>0.248783</td>\n",
       "      <td>0.066947</td>\n",
       "      <td>0.000000</td>\n",
       "      <td>0.000000</td>\n",
       "    </tr>\n",
       "    <tr>\n",
       "      <th>max</th>\n",
       "      <td>180.000000</td>\n",
       "      <td>4.000000</td>\n",
       "      <td>1.000000</td>\n",
       "      <td>1.000000</td>\n",
       "      <td>1.000000</td>\n",
       "      <td>1.000000</td>\n",
       "      <td>1.000000</td>\n",
       "      <td>1.000000</td>\n",
       "      <td>0.289366</td>\n",
       "      <td>0.091594</td>\n",
       "      <td>1.000000</td>\n",
       "      <td>1.000000</td>\n",
       "    </tr>\n",
       "  </tbody>\n",
       "</table>\n",
       "</div>"
      ],
      "text/plain": [
       "               lsat           gpa      resident        gender         black  \\\n",
       "count  74698.000000  74698.000000  74698.000000  74698.000000  74698.000000   \n",
       "mean     157.771453      3.379158      0.251011      0.558315      0.080805   \n",
       "std        8.346967      0.401746      0.433598      0.496591      0.272538   \n",
       "min      120.000000      1.349999      0.000000      0.000000      0.000000   \n",
       "25%      153.000000      3.140000      0.000000      0.000000      0.000000   \n",
       "50%      158.000000      3.440000      0.000000      1.000000      0.000000   \n",
       "75%      164.000000      3.690000      1.000000      1.000000      0.000000   \n",
       "max      180.000000      4.000000      1.000000      1.000000      1.000000   \n",
       "\n",
       "           hispanic         asian         white  college_acceptance_rate  \\\n",
       "count  74698.000000  74698.000000  74698.000000             74698.000000   \n",
       "mean       0.080417      0.129414      0.709363                 0.223272   \n",
       "std        0.271940      0.335660      0.454059                 0.041457   \n",
       "min        0.000000      0.000000      0.000000                 0.141110   \n",
       "25%        0.000000      0.000000      0.000000                 0.198752   \n",
       "50%        0.000000      0.000000      1.000000                 0.216494   \n",
       "75%        0.000000      0.000000      1.000000                 0.248783   \n",
       "max        1.000000      1.000000      1.000000                 0.289366   \n",
       "\n",
       "       college_admission_rate         admit        enroll  \n",
       "count            74698.000000  74698.000000  74698.000000  \n",
       "mean                 0.057244      0.223272      0.057244  \n",
       "std                  0.019286      0.416442      0.232309  \n",
       "min                  0.018715      0.000000      0.000000  \n",
       "25%                  0.044874      0.000000      0.000000  \n",
       "50%                  0.052267      0.000000      0.000000  \n",
       "75%                  0.066947      0.000000      0.000000  \n",
       "max                  0.091594      1.000000      1.000000  "
      ]
     },
     "execution_count": 9,
     "metadata": {},
     "output_type": "execute_result"
    }
   ],
   "source": [
    "df.describe()"
   ]
  },
  {
   "cell_type": "code",
   "execution_count": 10,
   "id": "e8f69667",
   "metadata": {},
   "outputs": [
    {
     "data": {
      "image/png": "[encoded data removed]",
      "text/plain": [
       "<Figure size 1152x360 with 2 Axes>"
      ]
     },
     "metadata": {
      "needs_background": "light"
     },
     "output_type": "display_data"
    }
   ],
   "source": [
    "# generate correlation matrix heatmap\n",
    "plt.figure(figsize = (16,5))\n",
    "heatmap = sns.heatmap(data = df.corr(), annot = True, cmap = sns.color_palette(\"flare\", as_cmap = True), linewidths = 1)"
   ]
  },
  {
   "cell_type": "markdown",
   "id": "77aadba8",
   "metadata": {},
   "source": [
    "# Predict `admit` and `enroll`"
   ]
  },
  {
   "cell_type": "markdown",
   "id": "1065337f",
   "metadata": {},
   "source": [
    "### Background\n",
    "To predict the result of `admit` and `enroll`, we can implement *Multi-label Classification*.\n",
    "\n",
    "[Source](https://scikit-learn.org/stable/modules/multiclass.html#multilabel-classification)\n",
    "> Multilabel classification (closely related to multioutput classification) is a classification task labeling each sample with m labels from n_classes possible classes, where m can be 0 to n_classes inclusive. This can be thought of as predicting properties of a sample that are not mutually exclusive. Formally, a binary output is assigned to each class, for every sample. Positive classes are indicated with 1 and negative classes with 0 or -1. It is thus comparable to running n_classes binary classification tasks, for example with MultiOutputClassifier. This approach treats each label independently whereas multilabel classifiers may treat the multiple classes **simultaneously, accounting for correlated behavior among them.**\n",
    "\n",
    "Specifically, we use the *Classifier Chains* method to predict the two binary variables consequently since the result of `enroll` is **conditional** on the result of `admit` (that is, if `admit` is 0, then `enroll` must be 0).\n",
    "\n",
    "[Source](https://scikit-learn.org/stable/modules/multiclass.html#classifierchain)\n",
    "> Classifier chains are a way of combining a number of binary classifiers into a single multi-label model that is capable of exploiting correlations among targets.\n",
    "For a multi-label classification problem with N classes, N binary classifiers are assigned an integer between 0 and N-1. These integers define the order of models in the chain. Each classifier is then fit on the available training data plus the true labels of the classes whose models were assigned a lower number."
   ]
  },
  {
   "cell_type": "markdown",
   "id": "f9d6ce67",
   "metadata": {},
   "source": [
    "### Implementation\n",
    "References for choosing algorithms and metrics to evaluate them:\n",
    "\n",
    "- https://www.mdpi.com/2306-5729/4/2/65/htm \n",
    "\n",
    "- Jesse Read, Bernhard Pfahringer, Geoff Holmes, Eibe Frank,\n",
    "“Classifier Chains for Multi-label Classification”, 2009."
   ]
  },
  {
   "cell_type": "code",
   "execution_count": 11,
   "id": "1d2b3ced",
   "metadata": {},
   "outputs": [],
   "source": [
    "# split data into training and testing part\n",
    "target = ['admit', 'enroll']\n",
    "y = df[target]\n",
    "X = df.drop(target, axis = 1)\n",
    "X_train, X_test, y_train, y_test = train_test_split(X, y, train_size = 0.8, shuffle = True, random_state = 1)"
   ]
  },
  {
   "cell_type": "code",
   "execution_count": 12,
   "id": "d1467ba9",
   "metadata": {
    "scrolled": true
   },
   "outputs": [
    {
     "data": {
      "text/html": [
       "<style>#sk-container-id-1 {color: black;background-color: white;}#sk-container-id-1 pre{padding: 0;}#sk-container-id-1 div.sk-toggleable {background-color: white;}#sk-container-id-1 label.sk-toggleable__label {cursor: pointer;display: block;width: 100%;margin-bottom: 0;padding: 0.3em;box-sizing: border-box;text-align: center;}#sk-container-id-1 label.sk-toggleable__label-arrow:before {content: \"▸\";float: left;margin-right: 0.25em;color: #696969;}#sk-container-id-1 label.sk-toggleable__label-arrow:hover:before {color: black;}#sk-container-id-1 div.sk-estimator:hover label.sk-toggleable__label-arrow:before {color: black;}#sk-container-id-1 div.sk-toggleable__content {max-height: 0;max-width: 0;overflow: hidden;text-align: left;background-color: #f0f8ff;}#sk-container-id-1 div.sk-toggleable__content pre {margin: 0.2em;color: black;border-radius: 0.25em;background-color: #f0f8ff;}#sk-container-id-1 input.sk-toggleable__control:checked~div.sk-toggleable__content {max-height: 200px;max-width: 100%;overflow: auto;}#sk-container-id-1 input.sk-toggleable__control:checked~label.sk-toggleable__label-arrow:before {content: \"▾\";}#sk-container-id-1 div.sk-estimator input.sk-toggleable__control:checked~label.sk-toggleable__label {background-color: #d4ebff;}#sk-container-id-1 div.sk-label input.sk-toggleable__control:checked~label.sk-toggleable__label {background-color: #d4ebff;}#sk-container-id-1 input.sk-hidden--visually {border: 0;clip: rect(1px 1px 1px 1px);clip: rect(1px, 1px, 1px, 1px);height: 1px;margin: -1px;overflow: hidden;padding: 0;position: absolute;width: 1px;}#sk-container-id-1 div.sk-estimator {font-family: monospace;background-color: #f0f8ff;border: 1px dotted black;border-radius: 0.25em;box-sizing: border-box;margin-bottom: 0.5em;}#sk-container-id-1 div.sk-estimator:hover {background-color: #d4ebff;}#sk-container-id-1 div.sk-parallel-item::after {content: \"\";width: 100%;border-bottom: 1px solid gray;flex-grow: 1;}#sk-container-id-1 div.sk-label:hover label.sk-toggleable__label {background-color: #d4ebff;}#sk-container-id-1 div.sk-serial::before {content: \"\";position: absolute;border-left: 1px solid gray;box-sizing: border-box;top: 0;bottom: 0;left: 50%;z-index: 0;}#sk-container-id-1 div.sk-serial {display: flex;flex-direction: column;align-items: center;background-color: white;padding-right: 0.2em;padding-left: 0.2em;position: relative;}#sk-container-id-1 div.sk-item {position: relative;z-index: 1;}#sk-container-id-1 div.sk-parallel {display: flex;align-items: stretch;justify-content: center;background-color: white;position: relative;}#sk-container-id-1 div.sk-item::before, #sk-container-id-1 div.sk-parallel-item::before {content: \"\";position: absolute;border-left: 1px solid gray;box-sizing: border-box;top: 0;bottom: 0;left: 50%;z-index: -1;}#sk-container-id-1 div.sk-parallel-item {display: flex;flex-direction: column;z-index: 1;position: relative;background-color: white;}#sk-container-id-1 div.sk-parallel-item:first-child::after {align-self: flex-end;width: 50%;}#sk-container-id-1 div.sk-parallel-item:last-child::after {align-self: flex-start;width: 50%;}#sk-container-id-1 div.sk-parallel-item:only-child::after {width: 0;}#sk-container-id-1 div.sk-dashed-wrapped {border: 1px dashed gray;margin: 0 0.4em 0.5em 0.4em;box-sizing: border-box;padding-bottom: 0.4em;background-color: white;}#sk-container-id-1 div.sk-label label {font-family: monospace;font-weight: bold;display: inline-block;line-height: 1.2em;}#sk-container-id-1 div.sk-label-container {text-align: center;}#sk-container-id-1 div.sk-container {/* jupyter's `normalize.less` sets `[hidden] { display: none; }` but bootstrap.min.css set `[hidden] { display: none !important; }` so we also need the `!important` here to be able to override the default hidden behavior on the sphinx rendered scikit-learn.org. See: https://github.com/scikit-learn/scikit-learn/issues/21755 */display: inline-block !important;position: relative;}#sk-container-id-1 div.sk-text-repr-fallback {display: none;}</style><div id=\"sk-container-id-1\" class=\"sk-top-container\"><div class=\"sk-text-repr-fallback\"><pre>GridSearchCV(cv=10, estimator=ClassifierChain(require_dense=[True, True]),\n",
       "             param_grid=[{&#x27;classifier&#x27;: [LogisticRegression(max_iter=1000)]},\n",
       "                         {&#x27;classifier&#x27;: [DecisionTreeClassifier()]},\n",
       "                         {&#x27;classifier&#x27;: [RandomForestClassifier()]},\n",
       "                         {&#x27;classifier&#x27;: [KNeighborsClassifier(n_neighbors=10)]},\n",
       "                         {&#x27;classifier&#x27;: [GaussianNB()]}],\n",
       "             refit=&#x27;auc&#x27;,\n",
       "             scoring={&#x27;accuracy&#x27;: &lt;function score_accuracy at 0x7f88224c19d0&gt;,\n",
       "                      &#x27;auc&#x27;: &lt;function score_auc at 0x7f88224c1940&gt;,\n",
       "                      &#x27;fbeta&#x27;: &lt;function score_fbeta at 0x7f88224c1c10&gt;})</pre><b>In a Jupyter environment, please rerun this cell to show the HTML representation or trust the notebook. <br />On GitHub, the HTML representation is unable to render, please try loading this page with nbviewer.org.</b></div><div class=\"sk-container\" hidden><div class=\"sk-item sk-dashed-wrapped\"><div class=\"sk-label-container\"><div class=\"sk-label sk-toggleable\"><input class=\"sk-toggleable__control sk-hidden--visually\" id=\"sk-estimator-id-1\" type=\"checkbox\" ><label for=\"sk-estimator-id-1\" class=\"sk-toggleable__label sk-toggleable__label-arrow\">GridSearchCV</label><div class=\"sk-toggleable__content\"><pre>GridSearchCV(cv=10, estimator=ClassifierChain(require_dense=[True, True]),\n",
       "             param_grid=[{&#x27;classifier&#x27;: [LogisticRegression(max_iter=1000)]},\n",
       "                         {&#x27;classifier&#x27;: [DecisionTreeClassifier()]},\n",
       "                         {&#x27;classifier&#x27;: [RandomForestClassifier()]},\n",
       "                         {&#x27;classifier&#x27;: [KNeighborsClassifier(n_neighbors=10)]},\n",
       "                         {&#x27;classifier&#x27;: [GaussianNB()]}],\n",
       "             refit=&#x27;auc&#x27;,\n",
       "             scoring={&#x27;accuracy&#x27;: &lt;function score_accuracy at 0x7f88224c19d0&gt;,\n",
       "                      &#x27;auc&#x27;: &lt;function score_auc at 0x7f88224c1940&gt;,\n",
       "                      &#x27;fbeta&#x27;: &lt;function score_fbeta at 0x7f88224c1c10&gt;})</pre></div></div></div><div class=\"sk-parallel\"><div class=\"sk-parallel-item\"><div class=\"sk-item\"><div class=\"sk-label-container\"><div class=\"sk-label sk-toggleable\"><input class=\"sk-toggleable__control sk-hidden--visually\" id=\"sk-estimator-id-2\" type=\"checkbox\" ><label for=\"sk-estimator-id-2\" class=\"sk-toggleable__label sk-toggleable__label-arrow\">estimator: ClassifierChain</label><div class=\"sk-toggleable__content\"><pre>ClassifierChain(require_dense=[True, True])</pre></div></div></div><div class=\"sk-serial\"><div class=\"sk-item\"><div class=\"sk-estimator sk-toggleable\"><input class=\"sk-toggleable__control sk-hidden--visually\" id=\"sk-estimator-id-3\" type=\"checkbox\" ><label for=\"sk-estimator-id-3\" class=\"sk-toggleable__label sk-toggleable__label-arrow\">ClassifierChain</label><div class=\"sk-toggleable__content\"><pre>ClassifierChain(require_dense=[True, True])</pre></div></div></div></div></div></div></div></div></div></div>"
      ],
      "text/plain": [
       "GridSearchCV(cv=10, estimator=ClassifierChain(require_dense=[True, True]),\n",
       "             param_grid=[{'classifier': [LogisticRegression(max_iter=1000)]},\n",
       "                         {'classifier': [DecisionTreeClassifier()]},\n",
       "                         {'classifier': [RandomForestClassifier()]},\n",
       "                         {'classifier': [KNeighborsClassifier(n_neighbors=10)]},\n",
       "                         {'classifier': [GaussianNB()]}],\n",
       "             refit='auc',\n",
       "             scoring={'accuracy': <function score_accuracy at 0x7f88224c19d0>,\n",
       "                      'auc': <function score_auc at 0x7f88224c1940>,\n",
       "                      'fbeta': <function score_fbeta at 0x7f88224c1c10>})"
      ]
     },
     "execution_count": 12,
     "metadata": {},
     "output_type": "execute_result"
    }
   ],
   "source": [
    "# define evaluation metrics: auc score (main), accuracy score, and f0.5 score\n",
    "def score_auc(clf, X, y):\n",
    "    y_score = clf.predict_proba(X)\n",
    "    return roc_auc_score(y, y_score.toarray())\n",
    "\n",
    "def score_accuracy(clf, X, y):\n",
    "    y_score = clf.predict(X)\n",
    "    return accuracy_score(y, y_score)\n",
    "\n",
    "def score_fbeta(clf, X, y):\n",
    "    y_score = clf.predict(X)\n",
    "    return fbeta_score(y, y_score, beta = 0.5, average='weighted')\n",
    "\n",
    "scoring = {'auc' : score_auc, 'accuracy': score_accuracy, 'fbeta': score_fbeta}\n",
    "\n",
    "# train popular supervised algorithms and evaluate them using 10-fold cross validation\n",
    "params = [\n",
    "    {\n",
    "        'classifier': [LogisticRegression(max_iter = 1000)],\n",
    "    },\n",
    "    {\n",
    "        'classifier': [DecisionTreeClassifier()],\n",
    "    },\n",
    "    {\n",
    "        'classifier': [RandomForestClassifier()],\n",
    "    },\n",
    "    {\n",
    "        'classifier': [KNeighborsClassifier(n_neighbors = 10)],\n",
    "    },\n",
    "    {\n",
    "        'classifier': [GaussianNB()],\n",
    "    },\n",
    "]\n",
    "\n",
    "clf = GridSearchCV(ClassifierChain(), params, scoring = scoring, refit = 'auc', cv = 10)\n",
    "clf.fit(X_train, y_train)"
   ]
  },
  {
   "cell_type": "markdown",
   "id": "187863cc",
   "metadata": {},
   "source": [
    "### Performance evaluation of different algorithms"
   ]
  },
  {
   "cell_type": "code",
   "execution_count": 13,
   "id": "c12479e9",
   "metadata": {
    "scrolled": false
   },
   "outputs": [
    {
     "data": {
      "text/plain": [
       "<AxesSubplot:xlabel='param_classifier'>"
      ]
     },
     "execution_count": 13,
     "metadata": {},
     "output_type": "execute_result"
    },
    {
     "data": {
      "image/png": "[encoded data removed]",
      "text/plain": [
       "<Figure size 1152x360 with 1 Axes>"
      ]
     },
     "metadata": {
      "needs_background": "light"
     },
     "output_type": "display_data"
    }
   ],
   "source": [
    "performance = pd.DataFrame(clf.cv_results_)\n",
    "performance = performance[['param_classifier', 'mean_test_auc', 'rank_test_auc',\\\n",
    "                           'mean_test_accuracy', 'rank_test_accuracy', 'mean_test_fbeta',\\\n",
    "                           'rank_test_fbeta']]\n",
    "performance.plot.line(x = 'param_classifier', y = ['mean_test_auc', 'mean_test_accuracy','mean_test_fbeta'], figsize = (16,5))"
   ]
  },
  {
   "cell_type": "code",
   "execution_count": 15,
   "id": "ea09b883",
   "metadata": {},
   "outputs": [
    {
     "data": {
      "text/html": [
       "<div>\n",
       "<style scoped>\n",
       "    .dataframe tbody tr th:only-of-type {\n",
       "        vertical-align: middle;\n",
       "    }\n",
       "\n",
       "    .dataframe tbody tr th {\n",
       "        vertical-align: top;\n",
       "    }\n",
       "\n",
       "    .dataframe thead th {\n",
       "        text-align: right;\n",
       "    }\n",
       "</style>\n",
       "<table border=\"1\" class=\"dataframe\">\n",
       "  <thead>\n",
       "    <tr style=\"text-align: right;\">\n",
       "      <th></th>\n",
       "      <th>param_classifier</th>\n",
       "      <th>mean_test_auc</th>\n",
       "      <th>rank_test_auc</th>\n",
       "      <th>mean_test_accuracy</th>\n",
       "      <th>rank_test_accuracy</th>\n",
       "      <th>mean_test_fbeta</th>\n",
       "      <th>rank_test_fbeta</th>\n",
       "    </tr>\n",
       "  </thead>\n",
       "  <tbody>\n",
       "    <tr>\n",
       "      <th>0</th>\n",
       "      <td>LogisticRegression(max_iter=1000)</td>\n",
       "      <td>0.762210</td>\n",
       "      <td>2</td>\n",
       "      <td>0.820191</td>\n",
       "      <td>4</td>\n",
       "      <td>0.559082</td>\n",
       "      <td>4</td>\n",
       "    </tr>\n",
       "    <tr>\n",
       "      <th>1</th>\n",
       "      <td>DecisionTreeClassifier()</td>\n",
       "      <td>0.703436</td>\n",
       "      <td>5</td>\n",
       "      <td>0.822635</td>\n",
       "      <td>3</td>\n",
       "      <td>0.595434</td>\n",
       "      <td>2</td>\n",
       "    </tr>\n",
       "    <tr>\n",
       "      <th>2</th>\n",
       "      <td>RandomForestClassifier()</td>\n",
       "      <td>0.823206</td>\n",
       "      <td>1</td>\n",
       "      <td>0.844824</td>\n",
       "      <td>1</td>\n",
       "      <td>0.644815</td>\n",
       "      <td>1</td>\n",
       "    </tr>\n",
       "    <tr>\n",
       "      <th>3</th>\n",
       "      <td>KNeighborsClassifier(n_neighbors=10)</td>\n",
       "      <td>0.753143</td>\n",
       "      <td>3</td>\n",
       "      <td>0.824124</td>\n",
       "      <td>2</td>\n",
       "      <td>0.570096</td>\n",
       "      <td>3</td>\n",
       "    </tr>\n",
       "    <tr>\n",
       "      <th>4</th>\n",
       "      <td>GaussianNB()</td>\n",
       "      <td>0.748013</td>\n",
       "      <td>4</td>\n",
       "      <td>0.707303</td>\n",
       "      <td>5</td>\n",
       "      <td>0.476598</td>\n",
       "      <td>5</td>\n",
       "    </tr>\n",
       "  </tbody>\n",
       "</table>\n",
       "</div>"
      ],
      "text/plain": [
       "                       param_classifier  mean_test_auc  rank_test_auc  \\\n",
       "0     LogisticRegression(max_iter=1000)       0.762210              2   \n",
       "1              DecisionTreeClassifier()       0.703436              5   \n",
       "2              RandomForestClassifier()       0.823206              1   \n",
       "3  KNeighborsClassifier(n_neighbors=10)       0.753143              3   \n",
       "4                          GaussianNB()       0.748013              4   \n",
       "\n",
       "   mean_test_accuracy  rank_test_accuracy  mean_test_fbeta  rank_test_fbeta  \n",
       "0            0.820191                   4         0.559082                4  \n",
       "1            0.822635                   3         0.595434                2  \n",
       "2            0.844824                   1         0.644815                1  \n",
       "3            0.824124                   2         0.570096                3  \n",
       "4            0.707303                   5         0.476598                5  "
      ]
     },
     "execution_count": 15,
     "metadata": {},
     "output_type": "execute_result"
    }
   ],
   "source": [
    "performance"
   ]
  },
  {
   "cell_type": "markdown",
   "id": "985e622d",
   "metadata": {},
   "source": [
    "We can see that Random Forest Classifier provides the best performance in terms of auc score, f0.5 score and accuracy score."
   ]
  },
  {
   "cell_type": "markdown",
   "id": "8bd313b8",
   "metadata": {},
   "source": [
    "# Export clean data"
   ]
  },
  {
   "cell_type": "code",
   "execution_count": 16,
   "id": "0d266fdc",
   "metadata": {},
   "outputs": [],
   "source": [
    "df.to_csv('clean_law_school.csv')"
   ]
  }
 ],
 "metadata": {
  "kernelspec": {
   "display_name": "Python 3 (ipykernel)",
   "language": "python",
   "name": "python3"
  },
  "language_info": {
   "codemirror_mode": {
    "name": "ipython",
    "version": 3
   },
   "file_extension": ".py",
   "mimetype": "text/x-python",
   "name": "python",
   "nbconvert_exporter": "python",
   "pygments_lexer": "ipython3",
   "version": "3.8.10"
  }
 },
 "nbformat": 4,
 "nbformat_minor": 5
}
